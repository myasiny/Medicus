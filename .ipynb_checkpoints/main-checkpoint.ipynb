{
 "cells": [
  {
   "cell_type": "markdown",
   "metadata": {},
   "source": [
    "# MEDICUS"
   ]
  },
  {
   "cell_type": "markdown",
   "metadata": {},
   "source": [
    "Medicus is a machine learning project which predicts state abbreviation by training crude prevalences of medical problems such as high blood pressure, cancer etc among adults aged 18+."
   ]
  },
  {
   "cell_type": "markdown",
   "metadata": {},
   "source": [
    "### About Data"
   ]
  },
  {
   "cell_type": "markdown",
   "metadata": {},
   "source": [
    "The dataset used in the project was provided by the Centers for Disease Control and Prevention, Division of Population Health, Epidemiology and Surveillance Branch.\n",
    "\n",
    "Source: https://chronicdata.cdc.gov/500-Cities/500-Cities-City-level-Data-GIS-Friendly-Format-201/dxpw-cm5u"
   ]
  },
  {
   "cell_type": "code",
   "execution_count": 14,
   "metadata": {},
   "outputs": [
    {
     "name": "stdout",
     "output_type": "stream",
     "text": [
      "The dataset consists of 500 rows and 10 cols.\n"
     ]
    }
   ],
   "source": [
    "import pandas as pd\n",
    "\n",
    "dataset = pd.read_csv(\"data/dataset.csv\")\n",
    "print(\"The dataset consists of %d rows and %d cols.\" % (dataset.shape[0], dataset.shape[1]))"
   ]
  },
  {
   "cell_type": "code",
   "execution_count": 3,
   "metadata": {},
   "outputs": [
    {
     "data": {
      "text/html": [
       "<div>\n",
       "<style>\n",
       "    .dataframe thead tr:only-child th {\n",
       "        text-align: right;\n",
       "    }\n",
       "\n",
       "    .dataframe thead th {\n",
       "        text-align: left;\n",
       "    }\n",
       "\n",
       "    .dataframe tbody tr th {\n",
       "        vertical-align: top;\n",
       "    }\n",
       "</style>\n",
       "<table border=\"1\" class=\"dataframe\">\n",
       "  <thead>\n",
       "    <tr style=\"text-align: right;\">\n",
       "      <th></th>\n",
       "      <th>StateAbbr</th>\n",
       "      <th>BPHIGH_CrudePrev</th>\n",
       "      <th>CANCER_CrudePrev</th>\n",
       "      <th>CHD_CrudePrev</th>\n",
       "      <th>CSMOKING_CrudePrev</th>\n",
       "      <th>DIABETES_CrudePrev</th>\n",
       "      <th>HIGHCHOL_CrudePrev</th>\n",
       "      <th>OBESITY_CrudePrev</th>\n",
       "      <th>SLEEP_CrudePrev</th>\n",
       "      <th>TEETHLOST_CrudePrev</th>\n",
       "    </tr>\n",
       "  </thead>\n",
       "  <tbody>\n",
       "    <tr>\n",
       "      <th>0</th>\n",
       "      <td>AL</td>\n",
       "      <td>43.8</td>\n",
       "      <td>5.7</td>\n",
       "      <td>7.7</td>\n",
       "      <td>24.4</td>\n",
       "      <td>16.8</td>\n",
       "      <td>39.2</td>\n",
       "      <td>41.9</td>\n",
       "      <td>46.5</td>\n",
       "      <td>26.1</td>\n",
       "    </tr>\n",
       "    <tr>\n",
       "      <th>1</th>\n",
       "      <td>AL</td>\n",
       "      <td>30.7</td>\n",
       "      <td>6.6</td>\n",
       "      <td>5.0</td>\n",
       "      <td>14.1</td>\n",
       "      <td>8.1</td>\n",
       "      <td>35.9</td>\n",
       "      <td>28.6</td>\n",
       "      <td>34.6</td>\n",
       "      <td>9.6</td>\n",
       "    </tr>\n",
       "    <tr>\n",
       "      <th>2</th>\n",
       "      <td>AL</td>\n",
       "      <td>36.8</td>\n",
       "      <td>6.6</td>\n",
       "      <td>6.5</td>\n",
       "      <td>19.1</td>\n",
       "      <td>11.5</td>\n",
       "      <td>38.9</td>\n",
       "      <td>33.8</td>\n",
       "      <td>39.2</td>\n",
       "      <td>14.9</td>\n",
       "    </tr>\n",
       "    <tr>\n",
       "      <th>3</th>\n",
       "      <td>AL</td>\n",
       "      <td>42.0</td>\n",
       "      <td>6.5</td>\n",
       "      <td>7.7</td>\n",
       "      <td>22.8</td>\n",
       "      <td>13.8</td>\n",
       "      <td>39.9</td>\n",
       "      <td>34.7</td>\n",
       "      <td>41.6</td>\n",
       "      <td>24.3</td>\n",
       "    </tr>\n",
       "    <tr>\n",
       "      <th>4</th>\n",
       "      <td>AL</td>\n",
       "      <td>40.3</td>\n",
       "      <td>6.0</td>\n",
       "      <td>6.7</td>\n",
       "      <td>22.0</td>\n",
       "      <td>13.1</td>\n",
       "      <td>37.4</td>\n",
       "      <td>38.9</td>\n",
       "      <td>41.1</td>\n",
       "      <td>21.2</td>\n",
       "    </tr>\n",
       "  </tbody>\n",
       "</table>\n",
       "</div>"
      ],
      "text/plain": [
       "  StateAbbr  BPHIGH_CrudePrev  CANCER_CrudePrev  CHD_CrudePrev  \\\n",
       "0        AL              43.8               5.7            7.7   \n",
       "1        AL              30.7               6.6            5.0   \n",
       "2        AL              36.8               6.6            6.5   \n",
       "3        AL              42.0               6.5            7.7   \n",
       "4        AL              40.3               6.0            6.7   \n",
       "\n",
       "   CSMOKING_CrudePrev  DIABETES_CrudePrev  HIGHCHOL_CrudePrev  \\\n",
       "0                24.4                16.8                39.2   \n",
       "1                14.1                 8.1                35.9   \n",
       "2                19.1                11.5                38.9   \n",
       "3                22.8                13.8                39.9   \n",
       "4                22.0                13.1                37.4   \n",
       "\n",
       "   OBESITY_CrudePrev  SLEEP_CrudePrev  TEETHLOST_CrudePrev  \n",
       "0               41.9             46.5                 26.1  \n",
       "1               28.6             34.6                  9.6  \n",
       "2               33.8             39.2                 14.9  \n",
       "3               34.7             41.6                 24.3  \n",
       "4               38.9             41.1                 21.2  "
      ]
     },
     "execution_count": 3,
     "metadata": {},
     "output_type": "execute_result"
    }
   ],
   "source": [
    "dataset.head()"
   ]
  },
  {
   "cell_type": "markdown",
   "metadata": {},
   "source": [
    "As is seen, the first column is where state "
   ]
  },
  {
   "cell_type": "code",
   "execution_count": 4,
   "metadata": {},
   "outputs": [
    {
     "name": "stdout",
     "output_type": "stream",
     "text": [
      "Populating the interactive namespace from numpy and matplotlib\n"
     ]
    },
    {
     "data": {
      "text/plain": [
       "<matplotlib.axes._subplots.AxesSubplot at 0x17aca46ea90>"
      ]
     },
     "execution_count": 4,
     "metadata": {},
     "output_type": "execute_result"
    },
    {
     "data": {
      "image/png": "[encoded data removed]",
      "text/plain": [
       "<matplotlib.figure.Figure at 0x17aca4e36a0>"
      ]
     },
     "metadata": {},
     "output_type": "display_data"
    }
   ],
   "source": [
    "%pylab inline\n",
    "\n",
    "import seaborn as sns\n",
    "\n",
    "sns.set(style=\"white\", color_codes=True)\n",
    "\n",
    "pylab.rcParams[\"figure.figsize\"] = (15, 5)\n",
    "sns.boxplot(x=\"StateAbbr\", y=\"OBESITY_CrudePrev\", data=dataset)"
   ]
  },
  {
   "cell_type": "code",
   "execution_count": 5,
   "metadata": {},
   "outputs": [
    {
     "data": {
      "image/png": "[encoded data removed]",
      "text/plain": [
       "<matplotlib.figure.Figure at 0x17acad74fd0>"
      ]
     },
     "metadata": {},
     "output_type": "display_data"
    }
   ],
   "source": [
    "%matplotlib inline\n",
    "\n",
    "import matplotlib.pyplot as plt\n",
    "\n",
    "pylab.rcParams[\"figure.figsize\"] = (15, 5)\n",
    "dataset.plot(kind=\"scatter\", x=\"CSMOKING_CrudePrev\", y=\"BPHIGH_CrudePrev\")\n",
    "plt.show()"
   ]
  },
  {
   "cell_type": "code",
   "execution_count": 6,
   "metadata": {},
   "outputs": [
    {
     "data": {
      "text/html": [
       "<div>\n",
       "<style>\n",
       "    .dataframe thead tr:only-child th {\n",
       "        text-align: right;\n",
       "    }\n",
       "\n",
       "    .dataframe thead th {\n",
       "        text-align: left;\n",
       "    }\n",
       "\n",
       "    .dataframe tbody tr th {\n",
       "        vertical-align: top;\n",
       "    }\n",
       "</style>\n",
       "<table border=\"1\" class=\"dataframe\">\n",
       "  <thead>\n",
       "    <tr style=\"text-align: right;\">\n",
       "      <th></th>\n",
       "      <th>BPHIGH_CrudePrev</th>\n",
       "      <th>CANCER_CrudePrev</th>\n",
       "      <th>CHD_CrudePrev</th>\n",
       "      <th>CSMOKING_CrudePrev</th>\n",
       "      <th>DIABETES_CrudePrev</th>\n",
       "      <th>HIGHCHOL_CrudePrev</th>\n",
       "      <th>OBESITY_CrudePrev</th>\n",
       "      <th>SLEEP_CrudePrev</th>\n",
       "      <th>TEETHLOST_CrudePrev</th>\n",
       "    </tr>\n",
       "  </thead>\n",
       "  <tbody>\n",
       "    <tr>\n",
       "      <th>BPHIGH_CrudePrev</th>\n",
       "      <td>1.000000</td>\n",
       "      <td>0.347332</td>\n",
       "      <td>0.854970</td>\n",
       "      <td>0.698888</td>\n",
       "      <td>0.842355</td>\n",
       "      <td>0.753290</td>\n",
       "      <td>0.744034</td>\n",
       "      <td>0.658592</td>\n",
       "      <td>0.708818</td>\n",
       "    </tr>\n",
       "    <tr>\n",
       "      <th>CANCER_CrudePrev</th>\n",
       "      <td>0.347332</td>\n",
       "      <td>1.000000</td>\n",
       "      <td>0.515550</td>\n",
       "      <td>0.058153</td>\n",
       "      <td>0.022720</td>\n",
       "      <td>0.524840</td>\n",
       "      <td>-0.058249</td>\n",
       "      <td>-0.197655</td>\n",
       "      <td>-0.100066</td>\n",
       "    </tr>\n",
       "    <tr>\n",
       "      <th>CHD_CrudePrev</th>\n",
       "      <td>0.854970</td>\n",
       "      <td>0.515550</td>\n",
       "      <td>1.000000</td>\n",
       "      <td>0.692472</td>\n",
       "      <td>0.789909</td>\n",
       "      <td>0.829365</td>\n",
       "      <td>0.646578</td>\n",
       "      <td>0.474984</td>\n",
       "      <td>0.678524</td>\n",
       "    </tr>\n",
       "    <tr>\n",
       "      <th>CSMOKING_CrudePrev</th>\n",
       "      <td>0.698888</td>\n",
       "      <td>0.058153</td>\n",
       "      <td>0.692472</td>\n",
       "      <td>1.000000</td>\n",
       "      <td>0.600786</td>\n",
       "      <td>0.476549</td>\n",
       "      <td>0.788771</td>\n",
       "      <td>0.583488</td>\n",
       "      <td>0.878214</td>\n",
       "    </tr>\n",
       "    <tr>\n",
       "      <th>DIABETES_CrudePrev</th>\n",
       "      <td>0.842355</td>\n",
       "      <td>0.022720</td>\n",
       "      <td>0.789909</td>\n",
       "      <td>0.600786</td>\n",
       "      <td>1.000000</td>\n",
       "      <td>0.673553</td>\n",
       "      <td>0.728049</td>\n",
       "      <td>0.737651</td>\n",
       "      <td>0.726301</td>\n",
       "    </tr>\n",
       "    <tr>\n",
       "      <th>HIGHCHOL_CrudePrev</th>\n",
       "      <td>0.753290</td>\n",
       "      <td>0.524840</td>\n",
       "      <td>0.829365</td>\n",
       "      <td>0.476549</td>\n",
       "      <td>0.673553</td>\n",
       "      <td>1.000000</td>\n",
       "      <td>0.591259</td>\n",
       "      <td>0.347989</td>\n",
       "      <td>0.458077</td>\n",
       "    </tr>\n",
       "    <tr>\n",
       "      <th>OBESITY_CrudePrev</th>\n",
       "      <td>0.744034</td>\n",
       "      <td>-0.058249</td>\n",
       "      <td>0.646578</td>\n",
       "      <td>0.788771</td>\n",
       "      <td>0.728049</td>\n",
       "      <td>0.591259</td>\n",
       "      <td>1.000000</td>\n",
       "      <td>0.577715</td>\n",
       "      <td>0.806334</td>\n",
       "    </tr>\n",
       "    <tr>\n",
       "      <th>SLEEP_CrudePrev</th>\n",
       "      <td>0.658592</td>\n",
       "      <td>-0.197655</td>\n",
       "      <td>0.474984</td>\n",
       "      <td>0.583488</td>\n",
       "      <td>0.737651</td>\n",
       "      <td>0.347989</td>\n",
       "      <td>0.577715</td>\n",
       "      <td>1.000000</td>\n",
       "      <td>0.679876</td>\n",
       "    </tr>\n",
       "    <tr>\n",
       "      <th>TEETHLOST_CrudePrev</th>\n",
       "      <td>0.708818</td>\n",
       "      <td>-0.100066</td>\n",
       "      <td>0.678524</td>\n",
       "      <td>0.878214</td>\n",
       "      <td>0.726301</td>\n",
       "      <td>0.458077</td>\n",
       "      <td>0.806334</td>\n",
       "      <td>0.679876</td>\n",
       "      <td>1.000000</td>\n",
       "    </tr>\n",
       "  </tbody>\n",
       "</table>\n",
       "</div>"
      ],
      "text/plain": [
       "                     BPHIGH_CrudePrev  CANCER_CrudePrev  CHD_CrudePrev  \\\n",
       "BPHIGH_CrudePrev             1.000000          0.347332       0.854970   \n",
       "CANCER_CrudePrev             0.347332          1.000000       0.515550   \n",
       "CHD_CrudePrev                0.854970          0.515550       1.000000   \n",
       "CSMOKING_CrudePrev           0.698888          0.058153       0.692472   \n",
       "DIABETES_CrudePrev           0.842355          0.022720       0.789909   \n",
       "HIGHCHOL_CrudePrev           0.753290          0.524840       0.829365   \n",
       "OBESITY_CrudePrev            0.744034         -0.058249       0.646578   \n",
       "SLEEP_CrudePrev              0.658592         -0.197655       0.474984   \n",
       "TEETHLOST_CrudePrev          0.708818         -0.100066       0.678524   \n",
       "\n",
       "                     CSMOKING_CrudePrev  DIABETES_CrudePrev  \\\n",
       "BPHIGH_CrudePrev               0.698888            0.842355   \n",
       "CANCER_CrudePrev               0.058153            0.022720   \n",
       "CHD_CrudePrev                  0.692472            0.789909   \n",
       "CSMOKING_CrudePrev             1.000000            0.600786   \n",
       "DIABETES_CrudePrev             0.600786            1.000000   \n",
       "HIGHCHOL_CrudePrev             0.476549            0.673553   \n",
       "OBESITY_CrudePrev              0.788771            0.728049   \n",
       "SLEEP_CrudePrev                0.583488            0.737651   \n",
       "TEETHLOST_CrudePrev            0.878214            0.726301   \n",
       "\n",
       "                     HIGHCHOL_CrudePrev  OBESITY_CrudePrev  SLEEP_CrudePrev  \\\n",
       "BPHIGH_CrudePrev               0.753290           0.744034         0.658592   \n",
       "CANCER_CrudePrev               0.524840          -0.058249        -0.197655   \n",
       "CHD_CrudePrev                  0.829365           0.646578         0.474984   \n",
       "CSMOKING_CrudePrev             0.476549           0.788771         0.583488   \n",
       "DIABETES_CrudePrev             0.673553           0.728049         0.737651   \n",
       "HIGHCHOL_CrudePrev             1.000000           0.591259         0.347989   \n",
       "OBESITY_CrudePrev              0.591259           1.000000         0.577715   \n",
       "SLEEP_CrudePrev                0.347989           0.577715         1.000000   \n",
       "TEETHLOST_CrudePrev            0.458077           0.806334         0.679876   \n",
       "\n",
       "                     TEETHLOST_CrudePrev  \n",
       "BPHIGH_CrudePrev                0.708818  \n",
       "CANCER_CrudePrev               -0.100066  \n",
       "CHD_CrudePrev                   0.678524  \n",
       "CSMOKING_CrudePrev              0.878214  \n",
       "DIABETES_CrudePrev              0.726301  \n",
       "HIGHCHOL_CrudePrev              0.458077  \n",
       "OBESITY_CrudePrev               0.806334  \n",
       "SLEEP_CrudePrev                 0.679876  \n",
       "TEETHLOST_CrudePrev             1.000000  "
      ]
     },
     "execution_count": 6,
     "metadata": {},
     "output_type": "execute_result"
    }
   ],
   "source": [
    "cols = dataset[[\"BPHIGH_CrudePrev\", \"CANCER_CrudePrev\", \"CHD_CrudePrev\", \"CSMOKING_CrudePrev\", \"DIABETES_CrudePrev\", \"HIGHCHOL_CrudePrev\", \"OBESITY_CrudePrev\", \"SLEEP_CrudePrev\", \"TEETHLOST_CrudePrev\"]]\n",
    "corr = cols.corr()\n",
    "corr"
   ]
  },
  {
   "cell_type": "code",
   "execution_count": 7,
   "metadata": {},
   "outputs": [
    {
     "data": {
      "image/png": "[encoded data removed]",
      "text/plain": [
       "<matplotlib.figure.Figure at 0x17acadd9470>"
      ]
     },
     "metadata": {},
     "output_type": "display_data"
    }
   ],
   "source": [
    "from matplotlib import cm\n",
    "\n",
    "pylab.rcParams[\"figure.figsize\"] = (15, 15)\n",
    "fig = plt.figure()\n",
    "ax1 = fig.add_subplot(111)\n",
    "cax = ax1.imshow(corr, interpolation=\"nearest\", cmap=cm.get_cmap(\"PiYG\", 25))\n",
    "cols = [\"\", \"BPHIGH_CrudePrev\", \"CANCER_CrudePrev\", \"CHD_CrudePrev\", \"CSMOKING_CrudePrev\", \"DIABETES_CrudePrev\", \"HIGHCHOL_CrudePrev\", \"OBESITY_CrudePrev\", \"SLEEP_CrudePrev\", \"TEETHLOST_CrudePrev\"]\n",
    "ax1.grid(True)\n",
    "ax1.set_xticklabels(cols, fontsize=8)\n",
    "ax1.set_yticklabels(cols, fontsize=8)\n",
    "fig.colorbar(cax, ticks=[0,.1,.2,.3,.4,.5,.6,.7,.8,.9,1])\n",
    "plt.show()"
   ]
  },
  {
   "cell_type": "markdown",
   "metadata": {},
   "source": [
    "### Training"
   ]
  },
  {
   "cell_type": "code",
   "execution_count": 8,
   "metadata": {
    "collapsed": true
   },
   "outputs": [],
   "source": [
    "import csv\n",
    "\n",
    "def set_to_list():\n",
    "    data = []\n",
    "    file = open(\"data/dataset.csv\", \"r\")\n",
    "    for row in csv.reader(file):\n",
    "        data.append(row)\n",
    "    file.close()\n",
    "    return data[1:]"
   ]
  },
  {
   "cell_type": "code",
   "execution_count": 9,
   "metadata": {
    "collapsed": true
   },
   "outputs": [],
   "source": [
    "import numpy as np\n",
    "from sklearn.model_selection import train_test_split\n",
    "\n",
    "def split_train_test():\n",
    "    data = np.array(set_to_list())\n",
    "    train, test = train_test_split(data, test_size=0.2)\n",
    "    return train, test"
   ]
  },
  {
   "cell_type": "code",
   "execution_count": 10,
   "metadata": {
    "collapsed": true
   },
   "outputs": [],
   "source": [
    "def split_X_y():\n",
    "    train, test = split_train_test()\n",
    "    X_train, y_train, X_test, y_test = [], [], [], []\n",
    "    for i in train:\n",
    "        i = i.tolist()\n",
    "        label = i.pop(0)\n",
    "        for item in i:\n",
    "            i[i.index(item)] = float(item)\n",
    "        X_train.append(i)\n",
    "        y_train.append(label)\n",
    "    for i in test:\n",
    "        i = i.tolist()\n",
    "        label = i.pop(0)\n",
    "        for item in i:\n",
    "            i[i.index(item)] = float(item)\n",
    "        X_test.append(i)\n",
    "        y_test.append(label)\n",
    "    return np.asarray(X_train), np.asarray(y_train), np.asarray(X_test), np.asarray(y_test)"
   ]
  },
  {
   "cell_type": "code",
   "execution_count": 11,
   "metadata": {
    "collapsed": true
   },
   "outputs": [],
   "source": [
    "X_train, y_train, X_test, y_test = split_X_y()"
   ]
  },
  {
   "cell_type": "code",
   "execution_count": null,
   "metadata": {
    "collapsed": true
   },
   "outputs": [],
   "source": []
  }
 ],
 "metadata": {
  "kernelspec": {
   "display_name": "Python 3",
   "language": "python",
   "name": "python3"
  },
  "language_info": {
   "codemirror_mode": {
    "name": "ipython",
    "version": 3
   },
   "file_extension": ".py",
   "mimetype": "text/x-python",
   "name": "python",
   "nbconvert_exporter": "python",
   "pygments_lexer": "ipython3",
   "version": "3.6.3"
  }
 },
 "nbformat": 4,
 "nbformat_minor": 2
}
